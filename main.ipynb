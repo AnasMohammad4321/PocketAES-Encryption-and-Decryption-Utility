{
 "cells": [
  {
   "cell_type": "code",
   "execution_count": 16,
   "metadata": {},
   "outputs": [],
   "source": [
    "def textInput(text):\n",
    "    \"\"\"\n",
    "    Prompts the user for input, converts it to a hexadecimal string, and formats it to 4 characters.\n",
    "\n",
    "    Args:\n",
    "        text (str): The prompt message to display to the user.\n",
    "\n",
    "    Raises:\n",
    "        SystemExit: If an error occurs during input or conversion, the program exits.\n",
    "\n",
    "    Returns:\n",
    "        str: A 4-character hexadecimal string entered by the user.\n",
    "    \"\"\"\n",
    "    try:\n",
    "        textBlock = input(text)\n",
    "        textBlock = str(hex(int(textBlock, 16)))\n",
    "        textBlock = textBlock[2:]\n",
    "        while len(textBlock) < 4:\n",
    "            textBlock = '0' + textBlock\n",
    "        return textBlock\n",
    "    except Exception as e:\n",
    "        print('Error:', e)\n",
    "        raise SystemExit"
   ]
  },
  {
   "cell_type": "code",
   "execution_count": 17,
   "metadata": {},
   "outputs": [],
   "source": [
    "def SubNibbles(input_hex):\n",
    "    \"\"\"Perform SubNibbles operation on a 16-bit hexadecimal input.\n",
    "\n",
    "    Args:\n",
    "        input_hex (int or str): A 16-bit hexadecimal input as an integer or string.\n",
    "\n",
    "    Returns:\n",
    "        str: The result of the SubNibbles operation as a 16-bit hexadecimal string.\n",
    "    \"\"\"\n",
    "    if isinstance(input_hex, str):\n",
    "        input_hex = int(input_hex, 16)\n",
    " \n",
    "    input_bin = bin(input_hex)[2:].zfill(16)\n",
    "    nibbles = [input_bin[i:i+4] for i in range(0, len(input_bin), 4)]\n",
    "    \n",
    "    substitution_table = {\n",
    "        '0000': '1010', '0001': '0000', '0010': '1001', '0011': '1110',\n",
    "        '0100': '0110', '0101': '0011', '0110': '1111', '0111': '0101',\n",
    "        '1000': '0001', '1001': '1101', '1010': '1100', '1011': '0111',\n",
    "        '1100': '1011', '1101': '0100', '1110': '0010', '1111': '1000'\n",
    "    }\n",
    "\n",
    "    result_bin = ''.join([substitution_table[nibble] for nibble in nibbles])\n",
    "\n",
    "    return hex(int(result_bin, 2))"
   ]
  },
  {
   "cell_type": "code",
   "execution_count": 18,
   "metadata": {},
   "outputs": [],
   "source": [
    "def GenerateRoundKeys(input_key):\n",
    "    \"\"\"\n",
    "    Generate two round keys, K1 and K2, from the given input key.\n",
    "\n",
    "    Args:\n",
    "        input_key (str): A 16-character hexadecimal string representing the input key.\n",
    "\n",
    "    Returns:\n",
    "        tuple: A tuple containing two 4-character hexadecimal strings representing K1 and K2.\n",
    "\n",
    "    Raises:\n",
    "        ValueError: If the input key is not a valid 16-character hexadecimal string.\n",
    "    \"\"\"\n",
    "\n",
    "    # Check if the input_key is a hexadecimal string; if not, convert it\n",
    "    if isinstance(input_key, str):\n",
    "        input_key = int(input_key, 16)\n",
    "\n",
    "    # Convert the integer input key to a 16-bit binary string with leading zeros\n",
    "    input_bin = bin(input_key)[2:].zfill(16)\n",
    "\n",
    "    # Split the binary string into nibbles (4-bit chunks)\n",
    "    w0, w1, w2, w3 = [int(input_bin[i:i + 4], 2) for i in range(0, len(input_bin), 4)]\n",
    "    \n",
    "    # Define Rcon constants\n",
    "    Rcon1 = 0b1110\n",
    "    Rcon2 = 0b1010\n",
    "    \n",
    "    # Calculate w4, w5, w6, and w7\n",
    "    w4 = w0 ^ int(SubNibbles(hex(w3)), 16) ^ Rcon1\n",
    "    w5 = w1 ^ w4\n",
    "    w6 = w2 ^ w5\n",
    "    w7 = w3 ^ w6\n",
    "    K1 = [w4, w5, w6, w7]\n",
    "    \n",
    "    # Calculate w8, w9, w10, and w11\n",
    "    w8 = w4 ^ int(SubNibbles(hex(w7)), 16) ^ Rcon2\n",
    "    w9 = w5 ^ w8\n",
    "    w10 = w6 ^ w9 \n",
    "    w11 = w7 ^ w10\n",
    "    K2 = [w8, w9, w10, w11]\n",
    "\n",
    "    K1_bits = [bin(val)[2:].zfill(4)[-4:] for val in K1]\n",
    "    K2_bits = [bin(val)[2:].zfill(4)[-4:] for val in K2]\n",
    "    \n",
    "    # Convert K1_bits and K2_bits (lists of bit strings) to hexadecimal strings\n",
    "    K1_hex = ''.join(hex(int(bit, 2))[2:] for bit in K1_bits)\n",
    "    K2_hex = ''.join(hex(int(bit, 2))[2:] for bit in K2_bits)\n",
    "\n",
    "    return K1_hex, K2_hex\n"
   ]
  },
  {
   "cell_type": "code",
   "execution_count": 19,
   "metadata": {},
   "outputs": [
    {
     "name": "stdout",
     "output_type": "stream",
     "text": [
      "SubNibbles(903b):0xdae7\n",
      "GenerateRoundKeys(903b):('0038', 'bb80')\n"
     ]
    }
   ],
   "source": [
    "number = textInput(\"Enter a text block:\")\n",
    "print(f\"SubNibbles({number}):{SubNibbles(number)}\")\n",
    "\n",
    "key = textInput(\"Enter a key:\")\n",
    "print(f\"GenerateRoundKeys({key}):{GenerateRoundKeys(key)}\")"
   ]
  },
  {
   "cell_type": "code",
   "execution_count": 20,
   "metadata": {},
   "outputs": [
    {
     "name": "stdout",
     "output_type": "stream",
     "text": [
      "0101\n"
     ]
    }
   ],
   "source": [
    "# def multiply_in_gf2_4(a, b):\n",
    "#     \"\"\"\n",
    "#     Multiplies two 4-bit numbers in the finite field GF(2^4) using the irreducible polynomial x^4 + x + 1.\n",
    "\n",
    "#     Args:\n",
    "#         a (int): The first 4-bit number.\n",
    "#         b (int): The second 4-bit number.\n",
    "\n",
    "#     Returns:\n",
    "#         int: The product of a and b in the finite field GF(2^4).\n",
    "#     \"\"\"\n",
    "#     m = 0\n",
    "\n",
    "#     while b > 0:\n",
    "#         if b & 1:  # Check if the least significant bit of b is 1\n",
    "#             m ^= a  # XOR operation\n",
    "\n",
    "#         a <<= 1  # Left shift a by 1 bit\n",
    "#         if a & 0x10:  # Check if the 4th bit of a is set\n",
    "#             a ^= 0x13  # XOR with irreducible polynomial x^4 + x + 1\n",
    "\n",
    "#         b >>= 1  # Right shift b by 1 bit\n",
    "\n",
    "#     return m\n",
    "\n",
    "# # Test the function\n",
    "# c0 = 0b0100  # Replace with your input values\n",
    "# c1 = 0b1100  # Replace with your input values\n",
    "\n",
    "# result = multiply_in_gf2_4(c0, c1)\n",
    "# print(bin(result)[2:].zfill(4))  # Convert the result to binary and print\n"
   ]
  },
  {
   "cell_type": "code",
   "execution_count": 21,
   "metadata": {},
   "outputs": [
    {
     "name": "stdout",
     "output_type": "stream",
     "text": [
      "['0x6', '0x2']\n",
      "['0x0', '0x5']\n"
     ]
    }
   ],
   "source": [
    "# def MixColumns(input_block):\n",
    "#     \"\"\"\n",
    "#     MixColumns operation in AES encryption.\n",
    "\n",
    "#     Args:\n",
    "#         input_block (list of lists): A 2x2 matrix representing the input block.\n",
    "\n",
    "#     Returns:\n",
    "#         list of lists: A 2x2 matrix representing the result of the MixColumns operation.\n",
    "#     \"\"\"\n",
    "#     constant_matrix = [\n",
    "#         [1, 4],\n",
    "#         [4, 1]\n",
    "#     ]\n",
    "\n",
    "#     d0 = (multiply_in_gf2_4(constant_matrix[0][0], input_block[0][0]) ^ multiply_in_gf2_4(constant_matrix[0][1], input_block[1][0]))\n",
    "#     d1 = (multiply_in_gf2_4(constant_matrix[1][0], input_block[0][0]) ^ multiply_in_gf2_4(constant_matrix[1][1], input_block[1][0]))\n",
    "#     d2 = (multiply_in_gf2_4(constant_matrix[0][0], input_block[0][1]) ^ multiply_in_gf2_4(constant_matrix[0][1], input_block[1][1]))\n",
    "#     d3 = (multiply_in_gf2_4(constant_matrix[1][0], input_block[0][1]) ^ multiply_in_gf2_4(constant_matrix[1][1], input_block[1][1]))\n",
    "\n",
    "#     return [\n",
    "#         [d0, d2],\n",
    "#         [d1, d3]\n",
    "#     ]\n",
    "\n",
    "# # Test the function\n",
    "# input_block = [\n",
    "#     [0x3, 0xB],\n",
    "#     [0xC, 0xF]\n",
    "# ]\n",
    "\n",
    "# output_block = MixColumns(input_block)\n",
    "\n",
    "# # Print the result\n",
    "# for row in output_block:\n",
    "#     print([hex(cell) for cell in row])\n"
   ]
  },
  {
   "cell_type": "code",
   "execution_count": 48,
   "metadata": {},
   "outputs": [
    {
     "name": "stdout",
     "output_type": "stream",
     "text": [
      "309b\n"
     ]
    }
   ],
   "source": [
    "def shift_row(input_block_hex):\n",
    "    \"\"\"\n",
    "    Perform the ShiftRow operation on a 4-character hexadecimal string, swapping the first and third nibbles.\n",
    "\n",
    "    Args:\n",
    "        input_block_hex (str): A 4-character hexadecimal string representing a 16-bit value.\n",
    "\n",
    "    Raises:\n",
    "        ValueError: If the input_block_hex does not have a length of 4 characters.\n",
    "\n",
    "    Returns:\n",
    "        str: A new 4-character hexadecimal string resulting from the row shift.\n",
    "    \"\"\"\n",
    "    # Ensure the input_block_hex has a length of 4 characters\n",
    "    if len(input_block_hex) != 4:\n",
    "        raise ValueError(\"Input should be a 4-character hexadecimal string\")\n",
    "\n",
    "    # Swap the first and third nibbles to perform the row shift\n",
    "    output_block_hex = input_block_hex[2] + input_block_hex[1] + input_block_hex[0] + input_block_hex[3]\n",
    "\n",
    "    return output_block_hex"
   ]
  },
  {
   "cell_type": "code",
   "execution_count": 25,
   "metadata": {},
   "outputs": [],
   "source": [
    "def add_round_key(input_block, round_key):\n",
    "    \"\"\"\n",
    "    Perform the AddRoundKey operation by bitwise XOR addition of the input block with a 16-bit round key.\n",
    "\n",
    "    Args:\n",
    "        input_block (list of list): A 2x2 matrix where each element represents a 4-bit value.\n",
    "        round_key (int): A 16-bit round key to be added to the input block.\n",
    "\n",
    "    Returns:\n",
    "        list of list: A new 2x2 matrix resulting from the XOR addition of the input block and the round key.\n",
    "    \"\"\"\n",
    "    # Create a new 2x2 matrix to store the result\n",
    "    output_block = [[0, 0], [0, 0]]\n",
    "\n",
    "    # Perform bitwise XOR addition for each element in the input block and round key\n",
    "    for i in range(2):\n",
    "        for j in range(2):\n",
    "            output_block[i][j] = input_block[i][j] ^ (round_key & 0xF)\n",
    "            round_key >>= 4\n",
    "\n",
    "    return output_block\n",
    "\n",
    "# Test the function\n",
    "input_block = [\n",
    "    [0x3, 0xB],\n",
    "    [0xC, 0xF]\n",
    "]\n"
   ]
  },
  {
   "cell_type": "code",
   "execution_count": 55,
   "metadata": {},
   "outputs": [
    {
     "name": "stdout",
     "output_type": "stream",
     "text": [
      "SubNibbles(000a):0xaaac\n"
     ]
    }
   ],
   "source": [
    "number = textInput(\"Enter a text block:\")\n",
    "print(f\"SubNibbles({number}):{SubNibbles(number)}\")"
   ]
  },
  {
   "cell_type": "code",
   "execution_count": 30,
   "metadata": {},
   "outputs": [
    {
     "name": "stdout",
     "output_type": "stream",
     "text": [
      "<class 'str'>\n"
     ]
    }
   ],
   "source": [
    "print(type(number))"
   ]
  },
  {
   "cell_type": "code",
   "execution_count": 47,
   "metadata": {},
   "outputs": [
    {
     "name": "stdout",
     "output_type": "stream",
     "text": [
      "ShiftRow(903b): 309b\n"
     ]
    }
   ],
   "source": [
    "print(f\"ShiftRow({number}): {shift_row(number)}\")"
   ]
  },
  {
   "cell_type": "code",
   "execution_count": 49,
   "metadata": {},
   "outputs": [
    {
     "ename": "TypeError",
     "evalue": "'>' not supported between instances of 'str' and 'int'",
     "output_type": "error",
     "traceback": [
      "\u001b[0;31m---------------------------------------------------------------------------\u001b[0m",
      "\u001b[0;31mTypeError\u001b[0m                                 Traceback (most recent call last)",
      "\u001b[1;32m/home/anas/Desktop/PocketAES-Encryption-and-Decryption-Utility/main.ipynb Cell 13\u001b[0m line \u001b[0;36m1\n\u001b[0;32m----> <a href='vscode-notebook-cell:/home/anas/Desktop/PocketAES-Encryption-and-Decryption-Utility/main.ipynb#X15sZmlsZQ%3D%3D?line=0'>1</a>\u001b[0m \u001b[39mprint\u001b[39m(\u001b[39mf\u001b[39m\u001b[39m\"\u001b[39m\u001b[39mMixColumns(\u001b[39m\u001b[39m{\u001b[39;00mnumber\u001b[39m}\u001b[39;00m\u001b[39m): \u001b[39m\u001b[39m{\u001b[39;00mMixColumns(number)\u001b[39m}\u001b[39;00m\u001b[39m\"\u001b[39m)\n",
      "\u001b[1;32m/home/anas/Desktop/PocketAES-Encryption-and-Decryption-Utility/main.ipynb Cell 13\u001b[0m line \u001b[0;36m1\n\u001b[1;32m      <a href='vscode-notebook-cell:/home/anas/Desktop/PocketAES-Encryption-and-Decryption-Utility/main.ipynb#X15sZmlsZQ%3D%3D?line=1'>2</a>\u001b[0m \u001b[39m\u001b[39m\u001b[39m\"\"\"_summary_\u001b[39;00m\n\u001b[1;32m      <a href='vscode-notebook-cell:/home/anas/Desktop/PocketAES-Encryption-and-Decryption-Utility/main.ipynb#X15sZmlsZQ%3D%3D?line=2'>3</a>\u001b[0m \n\u001b[1;32m      <a href='vscode-notebook-cell:/home/anas/Desktop/PocketAES-Encryption-and-Decryption-Utility/main.ipynb#X15sZmlsZQ%3D%3D?line=3'>4</a>\u001b[0m \u001b[39mArgs:\u001b[39;00m\n\u001b[0;32m   (...)\u001b[0m\n\u001b[1;32m      <a href='vscode-notebook-cell:/home/anas/Desktop/PocketAES-Encryption-and-Decryption-Utility/main.ipynb#X15sZmlsZQ%3D%3D?line=7'>8</a>\u001b[0m \u001b[39m    _type_: _description_\u001b[39;00m\n\u001b[1;32m      <a href='vscode-notebook-cell:/home/anas/Desktop/PocketAES-Encryption-and-Decryption-Utility/main.ipynb#X15sZmlsZQ%3D%3D?line=8'>9</a>\u001b[0m \u001b[39m\"\"\"\u001b[39;00m\n\u001b[1;32m     <a href='vscode-notebook-cell:/home/anas/Desktop/PocketAES-Encryption-and-Decryption-Utility/main.ipynb#X15sZmlsZQ%3D%3D?line=9'>10</a>\u001b[0m constant_matrix \u001b[39m=\u001b[39m [\n\u001b[1;32m     <a href='vscode-notebook-cell:/home/anas/Desktop/PocketAES-Encryption-and-Decryption-Utility/main.ipynb#X15sZmlsZQ%3D%3D?line=10'>11</a>\u001b[0m     [\u001b[39m1\u001b[39m, \u001b[39m4\u001b[39m],\n\u001b[1;32m     <a href='vscode-notebook-cell:/home/anas/Desktop/PocketAES-Encryption-and-Decryption-Utility/main.ipynb#X15sZmlsZQ%3D%3D?line=11'>12</a>\u001b[0m     [\u001b[39m4\u001b[39m, \u001b[39m1\u001b[39m]\n\u001b[1;32m     <a href='vscode-notebook-cell:/home/anas/Desktop/PocketAES-Encryption-and-Decryption-Utility/main.ipynb#X15sZmlsZQ%3D%3D?line=12'>13</a>\u001b[0m ]\n\u001b[0;32m---> <a href='vscode-notebook-cell:/home/anas/Desktop/PocketAES-Encryption-and-Decryption-Utility/main.ipynb#X15sZmlsZQ%3D%3D?line=14'>15</a>\u001b[0m d0 \u001b[39m=\u001b[39m (multiply_in_gf2_4(constant_matrix[\u001b[39m0\u001b[39m][\u001b[39m0\u001b[39m], input_block[\u001b[39m0\u001b[39m][\u001b[39m0\u001b[39m]) \u001b[39m^\u001b[39m multiply_in_gf2_4(constant_matrix[\u001b[39m0\u001b[39m][\u001b[39m1\u001b[39m], input_block[\u001b[39m1\u001b[39m][\u001b[39m0\u001b[39m]))\n\u001b[1;32m     <a href='vscode-notebook-cell:/home/anas/Desktop/PocketAES-Encryption-and-Decryption-Utility/main.ipynb#X15sZmlsZQ%3D%3D?line=15'>16</a>\u001b[0m d1 \u001b[39m=\u001b[39m (multiply_in_gf2_4(constant_matrix[\u001b[39m1\u001b[39m][\u001b[39m0\u001b[39m], input_block[\u001b[39m0\u001b[39m][\u001b[39m0\u001b[39m]) \u001b[39m^\u001b[39m multiply_in_gf2_4(constant_matrix[\u001b[39m1\u001b[39m][\u001b[39m1\u001b[39m], input_block[\u001b[39m1\u001b[39m][\u001b[39m0\u001b[39m]))\n\u001b[1;32m     <a href='vscode-notebook-cell:/home/anas/Desktop/PocketAES-Encryption-and-Decryption-Utility/main.ipynb#X15sZmlsZQ%3D%3D?line=16'>17</a>\u001b[0m d2 \u001b[39m=\u001b[39m (multiply_in_gf2_4(constant_matrix[\u001b[39m0\u001b[39m][\u001b[39m0\u001b[39m], input_block[\u001b[39m0\u001b[39m][\u001b[39m1\u001b[39m]) \u001b[39m^\u001b[39m multiply_in_gf2_4(constant_matrix[\u001b[39m0\u001b[39m][\u001b[39m1\u001b[39m], input_block[\u001b[39m1\u001b[39m][\u001b[39m1\u001b[39m]))\n",
      "\u001b[1;32m/home/anas/Desktop/PocketAES-Encryption-and-Decryption-Utility/main.ipynb Cell 13\u001b[0m line \u001b[0;36m1\n\u001b[1;32m      <a href='vscode-notebook-cell:/home/anas/Desktop/PocketAES-Encryption-and-Decryption-Utility/main.ipynb#X15sZmlsZQ%3D%3D?line=1'>2</a>\u001b[0m \u001b[39m\u001b[39m\u001b[39m\"\"\"\u001b[39;00m\n\u001b[1;32m      <a href='vscode-notebook-cell:/home/anas/Desktop/PocketAES-Encryption-and-Decryption-Utility/main.ipynb#X15sZmlsZQ%3D%3D?line=2'>3</a>\u001b[0m \u001b[39mMultiplies two 4-bit numbers in the finite field GF(2^4) using the irreducible polynomial x^4 + x + 1.\u001b[39;00m\n\u001b[1;32m      <a href='vscode-notebook-cell:/home/anas/Desktop/PocketAES-Encryption-and-Decryption-Utility/main.ipynb#X15sZmlsZQ%3D%3D?line=3'>4</a>\u001b[0m \n\u001b[0;32m   (...)\u001b[0m\n\u001b[1;32m     <a href='vscode-notebook-cell:/home/anas/Desktop/PocketAES-Encryption-and-Decryption-Utility/main.ipynb#X15sZmlsZQ%3D%3D?line=9'>10</a>\u001b[0m \u001b[39m    int: The product of a and b in the finite field GF(2^4).\u001b[39;00m\n\u001b[1;32m     <a href='vscode-notebook-cell:/home/anas/Desktop/PocketAES-Encryption-and-Decryption-Utility/main.ipynb#X15sZmlsZQ%3D%3D?line=10'>11</a>\u001b[0m \u001b[39m\"\"\"\u001b[39;00m\n\u001b[1;32m     <a href='vscode-notebook-cell:/home/anas/Desktop/PocketAES-Encryption-and-Decryption-Utility/main.ipynb#X15sZmlsZQ%3D%3D?line=11'>12</a>\u001b[0m m \u001b[39m=\u001b[39m \u001b[39m0\u001b[39m\n\u001b[0;32m---> <a href='vscode-notebook-cell:/home/anas/Desktop/PocketAES-Encryption-and-Decryption-Utility/main.ipynb#X15sZmlsZQ%3D%3D?line=13'>14</a>\u001b[0m \u001b[39mwhile\u001b[39;00m b \u001b[39m>\u001b[39m \u001b[39m0\u001b[39m:\n\u001b[1;32m     <a href='vscode-notebook-cell:/home/anas/Desktop/PocketAES-Encryption-and-Decryption-Utility/main.ipynb#X15sZmlsZQ%3D%3D?line=14'>15</a>\u001b[0m     \u001b[39mif\u001b[39;00m b \u001b[39m&\u001b[39m \u001b[39m1\u001b[39m:  \u001b[39m# Check if the least significant bit of b is 1\u001b[39;00m\n\u001b[1;32m     <a href='vscode-notebook-cell:/home/anas/Desktop/PocketAES-Encryption-and-Decryption-Utility/main.ipynb#X15sZmlsZQ%3D%3D?line=15'>16</a>\u001b[0m         m \u001b[39m^\u001b[39m\u001b[39m=\u001b[39m a  \u001b[39m# XOR operation\u001b[39;00m\n",
      "\u001b[0;31mTypeError\u001b[0m: '>' not supported between instances of 'str' and 'int'"
     ]
    }
   ],
   "source": [
    "print(f\"MixColumns({number}): {MixColumns(number)}\")"
   ]
  },
  {
   "cell_type": "code",
   "execution_count": 67,
   "metadata": {},
   "outputs": [
    {
     "name": "stdout",
     "output_type": "stream",
     "text": [
      "1 9\n",
      "4 0\n",
      "4 3\n",
      "1 b\n",
      "MixColumns(903b): 9297\n"
     ]
    }
   ],
   "source": [
    "\n",
    "# Test the function with a hexadecimal input string\n",
    "input_block_hex = \"903b\"\n",
    "output_block_hex = MixColumns(input_block_hex)\n",
    "print(f\"MixColumns({input_block_hex}): {output_block_hex}\")\n"
   ]
  },
  {
   "cell_type": "code",
   "execution_count": 68,
   "metadata": {},
   "outputs": [
    {
     "name": "stdout",
     "output_type": "stream",
     "text": [
      "GenerateRoundKeys(02cc):('57b7', 'ad61')\n"
     ]
    }
   ],
   "source": [
    "key = textInput(\"Enter a key:\")\n",
    "print(f\"GenerateRoundKeys({key}):{GenerateRoundKeys(key)}\")"
   ]
  }
 ],
 "metadata": {
  "kernelspec": {
   "display_name": "base",
   "language": "python",
   "name": "python3"
  },
  "language_info": {
   "codemirror_mode": {
    "name": "ipython",
    "version": 3
   },
   "file_extension": ".py",
   "mimetype": "text/x-python",
   "name": "python",
   "nbconvert_exporter": "python",
   "pygments_lexer": "ipython3",
   "version": "3.11.4"
  },
  "orig_nbformat": 4
 },
 "nbformat": 4,
 "nbformat_minor": 2
}
