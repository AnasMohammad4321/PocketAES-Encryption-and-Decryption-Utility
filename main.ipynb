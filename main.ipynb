{
 "cells": [
  {
   "cell_type": "code",
   "execution_count": 73,
   "metadata": {},
   "outputs": [],
   "source": [
    "def textInput(text):\n",
    "    \"\"\"\n",
    "    Prompts the user for input, converts it to a hexadecimal string, and formats it to 4 characters.\n",
    "\n",
    "    Args:\n",
    "        text (str): The prompt message to display to the user.\n",
    "\n",
    "    Raises:\n",
    "        SystemExit: If an error occurs during input or conversion, the program exits.\n",
    "\n",
    "    Returns:\n",
    "        str: A 4-character hexadecimal string entered by the user.\n",
    "    \"\"\"\n",
    "    try:\n",
    "        textBlock = input(text)\n",
    "        textBlock = str(hex(int(textBlock, 16)))\n",
    "        textBlock = textBlock[2:]\n",
    "        while len(textBlock) < 4:\n",
    "            textBlock = '0' + textBlock\n",
    "        return textBlock\n",
    "    except Exception as e:\n",
    "        print('Error:', e)\n",
    "        raise SystemExit"
   ]
  },
  {
   "cell_type": "code",
   "execution_count": 74,
   "metadata": {},
   "outputs": [],
   "source": [
    "def SubNibbles(input_hex):\n",
    "    \"\"\"Perform SubNibbles operation on a 16-bit hexadecimal input.\n",
    "\n",
    "    Args:\n",
    "        input_hex (int or str): A 16-bit hexadecimal input as an integer or string.\n",
    "\n",
    "    Returns:\n",
    "        str: The result of the SubNibbles operation as a 16-bit hexadecimal string.\n",
    "    \"\"\"\n",
    "    if isinstance(input_hex, str):\n",
    "        input_hex = int(input_hex, 16)\n",
    " \n",
    "    input_bin = bin(input_hex)[2:].zfill(16)\n",
    "    nibbles = [input_bin[i:i+4] for i in range(0, len(input_bin), 4)]\n",
    "    \n",
    "    substitution_table = {\n",
    "        '0000': '1010', '0001': '0000', '0010': '1001', '0011': '1110',\n",
    "        '0100': '0110', '0101': '0011', '0110': '1111', '0111': '0101',\n",
    "        '1000': '0001', '1001': '1101', '1010': '1100', '1011': '0111',\n",
    "        '1100': '1011', '1101': '0100', '1110': '0010', '1111': '1000'\n",
    "    }\n",
    "\n",
    "    result_bin = ''.join([substitution_table[nibble] for nibble in nibbles])\n",
    "\n",
    "    return hex(int(result_bin, 2))"
   ]
  },
  {
   "cell_type": "code",
   "execution_count": 75,
   "metadata": {},
   "outputs": [],
   "source": [
    "def GenerateRoundKeys(input_key):\n",
    "    \"\"\"\n",
    "    Generate two round keys, K1 and K2, from the given input key.\n",
    "\n",
    "    Args:\n",
    "        input_key (str): A 16-character hexadecimal string representing the input key.\n",
    "\n",
    "    Returns:\n",
    "        tuple: A tuple containing two 4-character hexadecimal strings representing K1 and K2.\n",
    "\n",
    "    Raises:\n",
    "        ValueError: If the input key is not a valid 16-character hexadecimal string.\n",
    "    \"\"\"\n",
    "\n",
    "    # Check if the input_key is a hexadecimal string; if not, convert it\n",
    "    if isinstance(input_key, str):\n",
    "        input_key = int(input_key, 16)\n",
    "\n",
    "    # Convert the integer input key to a 16-bit binary string with leading zeros\n",
    "    input_bin = bin(input_key)[2:].zfill(16)\n",
    "\n",
    "    # Split the binary string into nibbles (4-bit chunks)\n",
    "    w0, w1, w2, w3 = [int(input_bin[i:i + 4], 2) for i in range(0, len(input_bin), 4)]\n",
    "    \n",
    "    # Define Rcon constants\n",
    "    Rcon1 = 0b1110\n",
    "    Rcon2 = 0b1010\n",
    "    \n",
    "    # Calculate w4, w5, w6, and w7\n",
    "    w4 = w0 ^ int(SubNibbles(hex(w3)), 16) ^ Rcon1\n",
    "    w5 = w1 ^ w4\n",
    "    w6 = w2 ^ w5\n",
    "    w7 = w3 ^ w6\n",
    "    K1 = [w4, w5, w6, w7]\n",
    "    \n",
    "    # Calculate w8, w9, w10, and w11\n",
    "    w8 = w4 ^ int(SubNibbles(hex(w7)), 16) ^ Rcon2\n",
    "    w9 = w5 ^ w8\n",
    "    w10 = w6 ^ w9 \n",
    "    w11 = w7 ^ w10\n",
    "    K2 = [w8, w9, w10, w11]\n",
    "\n",
    "    K1_bits = [bin(val)[2:].zfill(4)[-4:] for val in K1]\n",
    "    K2_bits = [bin(val)[2:].zfill(4)[-4:] for val in K2]\n",
    "    \n",
    "    # Convert K1_bits and K2_bits (lists of bit strings) to hexadecimal strings\n",
    "    K1_hex = ''.join(hex(int(bit, 2))[2:] for bit in K1_bits)\n",
    "    K2_hex = ''.join(hex(int(bit, 2))[2:] for bit in K2_bits)\n",
    "\n",
    "    return K1_hex, K2_hex\n"
   ]
  },
  {
   "cell_type": "code",
   "execution_count": 79,
   "metadata": {},
   "outputs": [
    {
     "name": "stdout",
     "output_type": "stream",
     "text": [
      "SubNibbles(903b):0xdae7\n",
      "GenerateRoundKeys(02cc):('57b7', 'ad61')\n"
     ]
    }
   ],
   "source": [
    "number = textInput(\"Enter a text block:\")\n",
    "print(f\"SubNibbles({number}):{SubNibbles(number)}\")\n",
    "\n",
    "key = textInput(\"Enter a key:\")\n",
    "print(f\"GenerateRoundKeys({key}):{GenerateRoundKeys(key)}\")"
   ]
  }
 ],
 "metadata": {
  "kernelspec": {
   "display_name": "base",
   "language": "python",
   "name": "python3"
  },
  "language_info": {
   "codemirror_mode": {
    "name": "ipython",
    "version": 3
   },
   "file_extension": ".py",
   "mimetype": "text/x-python",
   "name": "python",
   "nbconvert_exporter": "python",
   "pygments_lexer": "ipython3",
   "version": "3.11.4"
  },
  "orig_nbformat": 4
 },
 "nbformat": 4,
 "nbformat_minor": 2
}
